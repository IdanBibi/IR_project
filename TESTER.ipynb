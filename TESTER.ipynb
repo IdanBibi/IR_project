{
  "nbformat": 4,
  "nbformat_minor": 0,
  "metadata": {
    "colab": {
      "name": "TESTER.ipynb",
      "provenance": [],
      "collapsed_sections": []
    },
    "kernelspec": {
      "name": "python3",
      "display_name": "Python 3"
    },
    "language_info": {
      "name": "python"
    }
  },
  "cells": [
    {
      "cell_type": "code",
      "execution_count": 1,
      "metadata": {
        "colab": {
          "base_uri": "https://localhost:8080/"
        },
        "id": "PgzgEjZFyoMY",
        "outputId": "43df2e4c-0737-48c7-8e45-a977384b88f7"
      },
      "outputs": [
        {
          "output_type": "stream",
          "name": "stdout",
          "text": [
            "[nltk_data] Downloading package stopwords to /root/nltk_data...\n",
            "[nltk_data]   Package stopwords is already up-to-date!\n"
          ]
        },
        {
          "output_type": "execute_result",
          "data": {
            "text/plain": [
              "True"
            ]
          },
          "metadata": {},
          "execution_count": 1
        }
      ],
      "source": [
        "from collections import Counter\n",
        "import nltk\n",
        "import re\n",
        "from nltk.corpus import stopwords\n",
        "from time import time\n",
        "from timeit import timeit\n",
        "import pickle\n",
        "import pandas as pd\n",
        "import numpy as np\n",
        "import json\n",
        "\n",
        "from inverted_index_gcp import *\n",
        "\n",
        "nltk.download('stopwords')"
      ]
    },
    {
      "cell_type": "code",
      "source": [
        "!pip install -q google-cloud-storage==1.43.0"
      ],
      "metadata": {
        "id": "BwFwV2GouN2j"
      },
      "execution_count": 2,
      "outputs": []
    },
    {
      "cell_type": "code",
      "source": [
        "# authenticate below for Google Storage access as needed\n",
        "from google.colab import auth\n",
        "auth.authenticate_user()"
      ],
      "metadata": {
        "id": "x7-4AnX6uPh7"
      },
      "execution_count": 3,
      "outputs": []
    },
    {
      "cell_type": "code",
      "source": [
        "import os\n",
        "from google.colab import drive\n",
        "drive.mount('/content/gdrive')"
      ],
      "metadata": {
        "colab": {
          "base_uri": "https://localhost:8080/"
        },
        "id": "I6t6iC87yot7",
        "outputId": "3897ee9d-2409-4c7f-c062-a9c985af4eaf"
      },
      "execution_count": 4,
      "outputs": [
        {
          "output_type": "stream",
          "name": "stdout",
          "text": [
            "Drive already mounted at /content/gdrive; to attempt to forcibly remount, call drive.mount(\"/content/gdrive\", force_remount=True).\n"
          ]
        }
      ]
    },
    {
      "cell_type": "code",
      "source": [
        "def get_docs_binary(queries_to_search, index, file_name, expand=False):\n",
        "    ids_and_words = {}\n",
        "    for term in np.unique(tokenize(queries_to_search, expand)):\n",
        "        if term in index.df.keys():\n",
        "            list_of_doc = read_posting_list(index, term, file_name)\n",
        "            for doc_id, _ in list_of_doc:\n",
        "                if doc_id in ids_and_words:\n",
        "                    ids_and_words[doc_id] += 1\n",
        "                else:\n",
        "                    ids_and_words[doc_id] = 1\n",
        "    return sorted(ids_and_words, key=ids_and_words.get, reverse=True)\n",
        "\n",
        "\n",
        "def read_posting_list(inverted, w, file_name):\n",
        "    posting_list = []\n",
        "    with closing(MultiFileReader()) as reader:\n",
        "        if w in inverted.df:\n",
        "            locs = inverted.posting_locs[w]\n",
        "            locs = [(file_name + lo[0], lo[1]) for lo in locs]\n",
        "            b = reader.read(locs, inverted.df[w] * TUPLE_SIZE)\n",
        "            for i in range(inverted.df[w]):\n",
        "                doc_id = int.from_bytes(b[i * TUPLE_SIZE:i * TUPLE_SIZE + 4], 'big')\n",
        "                tf = int.from_bytes(b[i * TUPLE_SIZE + 4:(i + 1) * TUPLE_SIZE], 'big')\n",
        "                posting_list.append((doc_id, tf))\n",
        "    return posting_list\n",
        "\n",
        "\n",
        "def tokenize(text, expand=False):\n",
        "    english_stopwords = frozenset(stopwords.words('english'))\n",
        "    corpus_stopwords = [\"category\", \"references\", \"also\", \"external\", \"links\",\n",
        "                        \"may\", \"first\", \"see\", \"history\", \"people\", \"one\", \"two\",\n",
        "                        \"part\", \"thumb\", \"including\", \"second\", \"following\",\n",
        "                        \"many\", \"however\", \"would\", \"became\", 'make']\n",
        "    RE_WORD = re.compile(r\"\"\"[\\#\\@\\w](['\\-]?\\w){2,24}\"\"\", re.UNICODE)\n",
        "    all_stopwords = english_stopwords.union(corpus_stopwords)\n",
        "\n",
        "    list_of_tokens = [token.group() for token in RE_WORD.finditer(text.lower()) if\n",
        "                      token.group() not in all_stopwords]\n",
        "    if expand:\n",
        "        list_of_tokens = expand_query(list_of_tokens)\n",
        "    return list_of_tokens\n",
        "\n",
        "def expand_query(query_tokens):\n",
        "    new_tokens = []\n",
        "    for tok in query_tokens:\n",
        "        sim = model.most_similar(tok, topn=5)\n",
        "        for word in sim:\n",
        "            new_tokens.append(word[0])\n",
        "        new_tokens.append(tok)\n",
        "    return new_tokens\n",
        "\n",
        "def tfidf_func(query, inverted, file_name):\n",
        "    query_tfidf = {}\n",
        "    doc_tfidf = defaultdict(list)\n",
        "    numerator = {}\n",
        "    cos = {}\n",
        "    query_tokens = tokenize(query)\n",
        "    for token in query_tokens:\n",
        "        post_list = read_posting_list(inverted, token, file_name)\n",
        "        idf = np.log2(len(id_lengths_dict) / (inverted.df[token] + 1))\n",
        "        query_tfidf[token] = query_tokens.count(token) / len(query_tokens)\n",
        "        for doc_id, freq in post_list:\n",
        "            if doc_id == 0:\n",
        "                continue\n",
        "            doc_tfidf[token].append((doc_id, freq * idf / id_lengths_dict[str(doc_id)]))\n",
        "    \n",
        "    for key, val in doc_tfidf.items():\n",
        "        for doc_id, tfidf in val:\n",
        "            if doc_id in numerator:\n",
        "                numerator[doc_id] += tfidf * query_tfidf[key]\n",
        "            else:\n",
        "                numerator[doc_id] = tfidf * query_tfidf[key]\n",
        "\n",
        "    for key, val in numerator.items():\n",
        "        cos[key] = val / (id_lengths_dict[str(key)] * len(query_tokens))\n",
        "\n",
        "    return sorted(cos, key=cos.get, reverse=True)\n",
        "\n",
        "\n",
        "def sim(query_tokens):\n",
        "    similarity = []\n",
        "    final = []\n",
        "    for i, w1 in enumerate(query_tokens):\n",
        "        for j, w2 in enumerate(query_tokens):\n",
        "            if i != j and w1 in model and w2 in model:\n",
        "                similarity.append((w1, w2, model.similarity(w1, w2)))\n",
        "    for i in similarity:\n",
        "        if i[2] >= 0.39:\n",
        "            final.append(i[0])\n",
        "            final.append(i[1])\n",
        "    if final:\n",
        "        return True, ' '.join(final)\n",
        "    return False, ' '.join(query_tokens)\n",
        "def search2(query):\n",
        "    query_tokens = tokenize(query)\n",
        "    if len(query_tokens) == 1:\n",
        "        ans = get_docs_binary(query, inverted_title, loc_title)[:100]\n",
        "    else:\n",
        "        sign, new_query = sim(tokenize(query))\n",
        "        if sign:\n",
        "            ans = get_docs_binary(new_query, inverted_title, loc_title)[:100]\n",
        "        elif len(query_tokens) == 2:\n",
        "            ans = get_docs_binary(query, inverted_title, loc_title)[:100]           \n",
        "        else:\n",
        "            ans = get_docs_binary(query, inverted_text, loc_text, True)[:100]\n",
        "    res = [(id, id_title_dict[id]) for id in ans]\n",
        "    return res\n",
        "def search1(query):\n",
        "    ans = get_docs_binary(query, inverted_title, loc_title)[:100]\n",
        "    res = [(id, id_title_dict[id]) for id in ans]\n",
        "    return res\n",
        "\n",
        "def search(query):\n",
        "    page_view = {}\n",
        "    ids_text = set(tfidf_func(query, inverted_text, loc_text))\n",
        "    ids_title = set(get_docs_binary(query, inverted_title, loc_title))\n",
        "    ids_anchor = set(get_docs_binary(query, inverted_anchor, loc_anchor))\n",
        "\n",
        "    intersection_ids = list(ids_text&ids_title&ids_anchor)\n",
        "    if intersection_ids:\n",
        "        for id in intersection_ids:\n",
        "            page_view[id] = pw[id]\n",
        "\n",
        "        page_view_sorted = sorted(page_view, key=page_view.get, reverse=True)[:100]\n",
        "        res = [(id, id_title_dict[id]) for id in page_view_sorted]\n",
        "    return res"
      ],
      "metadata": {
        "id": "0GUrkpyIyywu"
      },
      "execution_count": 46,
      "outputs": []
    },
    {
      "cell_type": "code",
      "source": [
        "inverted_text = InvertedIndex.read_index(\"/content/gdrive/MyDrive/IR_Project_Data/postings_gcp_text\", 'index')\n",
        "inverted_title = InvertedIndex.read_index(\"/content/gdrive/MyDrive/IR_Project_Data/postings_gcp_title\", 'index')\n",
        "inverted_anchor = InvertedIndex.read_index(\"/content/gdrive/MyDrive/IR_Project_Data/postings_gcp_anchor\", 'index')\n",
        "\n",
        "loc_text = \"/content/gdrive/MyDrive/IR_Project_Data/postings_gcp_text/\"\n",
        "loc_title = \"/content/gdrive/MyDrive/IR_Project_Data/postings_gcp_title/\"\n",
        "loc_anchor = \"/content/gdrive/MyDrive/IR_Project_Data/postings_gcp_anchor/\"\n",
        "\n",
        "id_title_dict = pd.read_pickle(\"/content/gdrive/MyDrive/IR_Project_Data/id_title_dict.pickle\")\n",
        "with open(\"/content/gdrive/MyDrive/IR_Project_Data/doc_lengths.json\") as f:\n",
        "    id_lengths_dict = json.load(f)\n",
        "with open(\"/content/gdrive/MyDrive/IR_Project_Data/page_rank_data.json\") as f:\n",
        "    pr = json.load(f)\n",
        "pw = pd.read_pickle(\"/content/gdrive/MyDrive/IR_Project_Data/pageviews.pkl\")"
      ],
      "metadata": {
        "id": "xtDEzXsvzFN9"
      },
      "execution_count": 6,
      "outputs": []
    },
    {
      "cell_type": "code",
      "source": [
        "from gensim.test.utils import common_texts\n",
        "from gensim.models import KeyedVectors\n",
        "\n",
        "model = KeyedVectors.load_word2vec_format(\"/content/gdrive/MyDrive/IR_Project_Data/wiki-news-300d-1M.vec\")"
      ],
      "metadata": {
        "id": "tcq8nFKuoczZ"
      },
      "execution_count": 7,
      "outputs": []
    },
    {
      "cell_type": "code",
      "source": [
        "search(\"NBA\")"
      ],
      "metadata": {
        "id": "cd3Q0oSnu4qa"
      },
      "execution_count": null,
      "outputs": []
    },
    {
      "cell_type": "markdown",
      "source": [
        "TESTTT"
      ],
      "metadata": {
        "id": "_9xXko86pTS2"
      }
    },
    {
      "cell_type": "code",
      "source": [
        "qs_res"
      ],
      "metadata": {
        "id": "982Ilwpeymri"
      },
      "execution_count": null,
      "outputs": []
    },
    {
      "cell_type": "code",
      "source": [
        "qs_res = []\n",
        "qs_res1 = []\n",
        "qs_res2 = []"
      ],
      "metadata": {
        "id": "DhqQo4aXwYFJ"
      },
      "execution_count": 51,
      "outputs": []
    },
    {
      "cell_type": "code",
      "source": [
        "for q, true_wids in queries.items():\n",
        "    duration, ap = None, None\n",
        "    t_start = time()\n",
        "\n",
        "    res = search(q)\n",
        "    duration = time() - t_start\n",
        "    t_start = time()\n",
        "    \n",
        "    res1 = search1(q)\n",
        "    duration1 = time() - t_start\n",
        "    t_start = time()\n",
        "\n",
        "    res2 = search2(q)\n",
        "    duration2 = time() - t_start\n",
        "#  if res.status_code == 200:\n",
        "    pred_wids, _ = zip(*res)\n",
        "    pred_wids1, _ = zip(*res1)\n",
        "    pred_wids2, _ = zip(*res2)\n",
        "    ap = average_precision(true_wids, pred_wids)\n",
        "    ap1 = average_precision(true_wids, pred_wids1)\n",
        "    ap2 = average_precision(true_wids, pred_wids2)\n",
        "    \n",
        "    qs_res.append((q, duration, ap))\n",
        "    qs_res1.append((q, duration1, ap1))\n",
        "    qs_res2.append((q, duration2, ap2))\n"
      ],
      "metadata": {
        "id": "txYrOelWZYUv"
      },
      "execution_count": 52,
      "outputs": []
    },
    {
      "cell_type": "code",
      "source": [
        "avg_score = []\n",
        "avg_score.append(sum([i[2] for i in qs_res]) / len(qs_res))\n",
        "avg_score.append(sum([i[2] for i in qs_res1]) / len(qs_res1))\n",
        "avg_score.append(sum([i[2] for i in qs_res2]) / len(qs_res2))\n",
        "print(avg_score)"
      ],
      "metadata": {
        "colab": {
          "base_uri": "https://localhost:8080/"
        },
        "id": "c9mxGTLRwROU",
        "outputId": "5e9d7c0b-5c9e-4d40-fbf1-be614935c556"
      },
      "execution_count": 53,
      "outputs": [
        {
          "output_type": "stream",
          "name": "stdout",
          "text": [
            "[0.4291333333333333, 0.4890333333333334, 0.5191333333333332]\n"
          ]
        }
      ]
    },
    {
      "cell_type": "code",
      "source": [
        "avg_time = []\n",
        "avg_time.append(sum([i[1] for i in qs_res]) / len(qs_res))\n",
        "avg_time.append(sum([i[1] for i in qs_res1]) / len(qs_res1))\n",
        "avg_time.append(sum([i[1] for i in qs_res2]) / len(qs_res2))\n",
        "print(avg_time)"
      ],
      "metadata": {
        "colab": {
          "base_uri": "https://localhost:8080/"
        },
        "id": "sFX-C2Z6xz_x",
        "outputId": "f87b7dfd-a900-493e-d447-00cebc9fa724"
      },
      "execution_count": 54,
      "outputs": [
        {
          "output_type": "stream",
          "name": "stdout",
          "text": [
            "[2.1349905172983807, 0.008306153615315755, 0.7611847877502441]\n"
          ]
        }
      ]
    },
    {
      "cell_type": "code",
      "source": [
        "import matplotlib.pyplot as plt\n",
        "\n",
        "versions = ['v1', 'v2', 'v3']\n",
        "plt.plot(versions, avg_score)\n",
        "plt.show()\n",
        "plt.plot(versions, avg_time)\n",
        "plt.show()"
      ],
      "metadata": {
        "colab": {
          "base_uri": "https://localhost:8080/",
          "height": 513
        },
        "id": "tCmgGqd9zPUk",
        "outputId": "cc4a3d8a-d440-4e40-81c4-1b6af4d5eb3d"
      },
      "execution_count": 63,
      "outputs": [
        {
          "output_type": "display_data",
          "data": {
            "image/png": "[encoded data removed]",
            "text/plain": [
              "<Figure size 432x288 with 1 Axes>"
            ]
          },
          "metadata": {
            "needs_background": "light"
          }
        },
        {
          "output_type": "display_data",
          "data": {
            "image/png": "[encoded data removed]",
            "text/plain": [
              "<Figure size 432x288 with 1 Axes>"
            ]
          },
          "metadata": {
            "needs_background": "light"
          }
        }
      ]
    },
    {
      "cell_type": "code",
      "source": [
        "for i, j, k in qs_res:\n",
        "    print(i, k)"
      ],
      "metadata": {
        "colab": {
          "base_uri": "https://localhost:8080/"
        },
        "id": "eZM3nDP1eakH",
        "outputId": "1c61585f-4fae-4602-ce18-3814aa375e57"
      },
      "execution_count": 23,
      "outputs": [
        {
          "output_type": "stream",
          "name": "stdout",
          "text": [
            "python 0.735\n",
            "data science 0.636\n",
            "migraine 1.0\n",
            "chocolate 0.491\n",
            "how to make pasta 0.248\n",
            "Does pasta have preservatives? 0.071\n",
            "how google works 0.559\n",
            "what is information retrieval 0.951\n",
            "NBA 0.51\n",
            "yoga 0.848\n",
            "how to not kill plants 0.0\n",
            "masks 0.513\n",
            "black friday 0.886\n",
            "why do men have nipples 0.0\n",
            "rubber duck 0.841\n",
            "michelin 0.49\n",
            "what to watch 0.229\n",
            "best marvel movie 0.094\n",
            "how tall is the eiffel tower 0.656\n",
            "where does vanilla flavoring come from 0.325\n",
            "best ice cream flavour 0.729\n",
            "how to tie a tie 0.483\n",
            "how to earn money online 0.053\n",
            "what is critical race theory 0.53\n",
            "what space movie was made in 1992 0.143\n",
            "how to vote 0.455\n",
            "google trends 0.777\n",
            "dim sum 0.884\n",
            "ted 0.847\n",
            "fairy tale 0.59\n"
          ]
        }
      ]
    },
    {
      "cell_type": "code",
      "source": [
        "print(f'avg: {sum([i[2] for i in qs_res]) / len(qs_res)}')\n",
        "print(f'time: {sum([i[1] for i in qs_res]) / len(qs_res)}')"
      ],
      "metadata": {
        "colab": {
          "base_uri": "https://localhost:8080/"
        },
        "id": "BqeRAb9_Z9r3",
        "outputId": "e1a3f5ca-030e-427d-cbdb-b22889b7382a"
      },
      "execution_count": 24,
      "outputs": [
        {
          "output_type": "stream",
          "name": "stdout",
          "text": [
            "avg: 0.5191333333333332\n",
            "time: 0.7245623032251994\n"
          ]
        }
      ]
    },
    {
      "cell_type": "code",
      "source": [
        "import json\n",
        "\n",
        "with open('queries_train.json', 'rt') as f:\n",
        "  queries = json.load(f)"
      ],
      "metadata": {
        "id": "PQalFxoS8N5V"
      },
      "execution_count": 11,
      "outputs": []
    },
    {
      "cell_type": "code",
      "source": [
        "def average_precision(true_list, predicted_list, k=40):\n",
        "    true_set = frozenset(true_list)\n",
        "    predicted_list = predicted_list[:k]\n",
        "    precisions = []\n",
        "    for i,doc_id in enumerate(predicted_list):        \n",
        "        if doc_id in true_set:\n",
        "            prec = (len(precisions)+1) / (i+1)            \n",
        "            precisions.append(prec)\n",
        "    if len(precisions) == 0:\n",
        "        return 0.0\n",
        "    return round(sum(precisions)/len(precisions),3)"
      ],
      "metadata": {
        "id": "7wIYVA5m8HTh"
      },
      "execution_count": 21,
      "outputs": []
    },
    {
      "cell_type": "code",
      "source": [
        "import requests\n",
        "from time import time\n",
        "# url = 'http://35.232.59.3:8080'\n",
        "# place the domain you got from ngrok or GCP IP below. \n",
        "url = 'http://35.188.202.53:8080' #'http://XXXX-XX-XX-XX-XX.ngrok.io'\n",
        "\n",
        "qs_res = []\n",
        "for q, true_wids in queries.items():\n",
        "  duration, ap = None, None\n",
        "  t_start = time()\n",
        "  try:\n",
        "    res = requests.get(url + '/search_title', {'query': q}, timeout=35)\n",
        "    #print(res.content)\n",
        "    duration = time() - t_start\n",
        "    if res.status_code == 200:\n",
        "      pred_wids, _ = zip(*res.json())\n",
        "      ap = average_precision(true_wids, pred_wids)\n",
        "  except:\n",
        "    pass\n",
        "  \n",
        "  qs_res.append((q, duration, ap))"
      ],
      "metadata": {
        "id": "iU8hmQFU9X_R"
      },
      "execution_count": 60,
      "outputs": []
    },
    {
      "cell_type": "code",
      "source": [
        "qs_res"
      ],
      "metadata": {
        "colab": {
          "base_uri": "https://localhost:8080/"
        },
        "id": "Zaba0I2oBqh2",
        "outputId": "5d81c63e-f16b-48f2-b546-004b1a3db8fd"
      },
      "execution_count": 61,
      "outputs": [
        {
          "output_type": "execute_result",
          "data": {
            "text/plain": [
              "[('python', 0.09058260917663574, 0.735),\n",
              " ('data science', 0.3163611888885498, 0.636),\n",
              " ('migraine', 0.08284878730773926, 1.0),\n",
              " ('chocolate', 0.1253979206085205, 0.491),\n",
              " ('how to make pasta', 0.08222436904907227, 0.248),\n",
              " ('Does pasta have preservatives?', 0.0829782485961914, 0.071),\n",
              " ('how google works', 0.18004179000854492, 0.559),\n",
              " ('what is information retrieval', 0.22011137008666992, 0.951),\n",
              " ('NBA', 0.1266922950744629, 0.51),\n",
              " ('yoga', 0.08422470092773438, 0.848),\n",
              " ('how to not kill plants', 0.1702895164489746, 0.0),\n",
              " ('masks', 0.0819239616394043, 0.513),\n",
              " ('black friday', 0.3167548179626465, 0.886),\n",
              " ('why do men have nipples', 0.1758127212524414, 0.0),\n",
              " ('rubber duck', 0.1272423267364502, 0.841),\n",
              " ('michelin', 0.08225059509277344, 0.49),\n",
              " ('what to watch', 0.12491869926452637, 0.229),\n",
              " ('best marvel movie', 0.38164663314819336, 0.0),\n",
              " ('how tall is the eiffel tower', 0.22690057754516602, 0.656),\n",
              " ('where does vanilla flavoring come from', 0.18697762489318848, 0.0),\n",
              " ('best ice cream flavour', 0.39054012298583984, 0.439),\n",
              " ('how to tie a tie', 0.08363914489746094, 0.483),\n",
              " ('how to earn money online', 0.17338061332702637, 0.053),\n",
              " ('what is critical race theory', 0.2897450923919678, 0.387),\n",
              " ('what space movie was made in 1992', 0.3809854984283447, 0.092),\n",
              " ('how to vote', 0.08460068702697754, 0.455),\n",
              " ('google trends', 0.1217644214630127, 0.777),\n",
              " ('dim sum', 0.08423590660095215, 0.884),\n",
              " ('ted', 0.17093849182128906, 0.847),\n",
              " ('fairy tale', 0.127763032913208, 0.59)]"
            ]
          },
          "metadata": {},
          "execution_count": 61
        }
      ]
    },
    {
      "cell_type": "code",
      "source": [
        "print(f'avg: {sum([i[2] for i in qs_res]) / len(qs_res)}')\n",
        "print(f'time: {sum([i[1] for i in qs_res]) / len(qs_res)}')"
      ],
      "metadata": {
        "colab": {
          "base_uri": "https://localhost:8080/"
        },
        "id": "ubVgt3dV-aUi",
        "outputId": "b7dafb88-0130-4969-92c8-49599f4e7f57"
      },
      "execution_count": 62,
      "outputs": [
        {
          "output_type": "stream",
          "name": "stdout",
          "text": [
            "avg: 0.4890333333333334\n",
            "time: 0.17245912551879883\n"
          ]
        }
      ]
    }
  ]
}