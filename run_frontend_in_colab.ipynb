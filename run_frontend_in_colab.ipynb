{
  "nbformat": 4,
  "nbformat_minor": 0,
  "metadata": {
    "colab": {
      "name": "run_frontend_in_colab.ipynb",
      "provenance": [],
      "collapsed_sections": []
    },
    "kernelspec": {
      "name": "python3",
      "display_name": "Python 3"
    },
    "language_info": {
      "name": "python"
    }
  },
  "cells": [
    {
      "cell_type": "code",
      "source": [
        "# These will already be installed in the testing environment so disregard the \n",
        "# amount of time (~1 minute) it takes to install. \n",
        "!pip install -q pyspark\n",
        "!pip install -U -q PyDrive\n",
        "!apt-get update -qq\n",
        "!apt install openjdk-8-jdk-headless -qq\n",
        "!pip install -q graphframes"
      ],
      "metadata": {
        "colab": {
          "base_uri": "https://localhost:8080/"
        },
        "id": "yKdDqYEbHvk2",
        "outputId": "fbb59733-5c19-4e41-ecbb-0a20f915ede4"
      },
      "execution_count": 1,
      "outputs": [
        {
          "output_type": "stream",
          "name": "stdout",
          "text": [
            "\u001b[K     |████████████████████████████████| 281.3 MB 38 kB/s \n",
            "\u001b[K     |████████████████████████████████| 198 kB 69.2 MB/s \n",
            "\u001b[?25h  Building wheel for pyspark (setup.py) ... \u001b[?25l\u001b[?25hdone\n",
            "The following additional packages will be installed:\n",
            "  openjdk-8-jre-headless\n",
            "Suggested packages:\n",
            "  openjdk-8-demo openjdk-8-source libnss-mdns fonts-dejavu-extra\n",
            "  fonts-ipafont-gothic fonts-ipafont-mincho fonts-wqy-microhei\n",
            "  fonts-wqy-zenhei fonts-indic\n",
            "The following NEW packages will be installed:\n",
            "  openjdk-8-jdk-headless openjdk-8-jre-headless\n",
            "0 upgraded, 2 newly installed, 0 to remove and 59 not upgraded.\n",
            "Need to get 36.5 MB of archives.\n",
            "After this operation, 143 MB of additional disk space will be used.\n",
            "Selecting previously unselected package openjdk-8-jre-headless:amd64.\n",
            "(Reading database ... 155225 files and directories currently installed.)\n",
            "Preparing to unpack .../openjdk-8-jre-headless_8u312-b07-0ubuntu1~18.04_amd64.deb ...\n",
            "Unpacking openjdk-8-jre-headless:amd64 (8u312-b07-0ubuntu1~18.04) ...\n",
            "Selecting previously unselected package openjdk-8-jdk-headless:amd64.\n",
            "Preparing to unpack .../openjdk-8-jdk-headless_8u312-b07-0ubuntu1~18.04_amd64.deb ...\n",
            "Unpacking openjdk-8-jdk-headless:amd64 (8u312-b07-0ubuntu1~18.04) ...\n",
            "Setting up openjdk-8-jre-headless:amd64 (8u312-b07-0ubuntu1~18.04) ...\n",
            "update-alternatives: using /usr/lib/jvm/java-8-openjdk-amd64/jre/bin/orbd to provide /usr/bin/orbd (orbd) in auto mode\n",
            "update-alternatives: using /usr/lib/jvm/java-8-openjdk-amd64/jre/bin/servertool to provide /usr/bin/servertool (servertool) in auto mode\n",
            "update-alternatives: using /usr/lib/jvm/java-8-openjdk-amd64/jre/bin/tnameserv to provide /usr/bin/tnameserv (tnameserv) in auto mode\n",
            "Setting up openjdk-8-jdk-headless:amd64 (8u312-b07-0ubuntu1~18.04) ...\n",
            "update-alternatives: using /usr/lib/jvm/java-8-openjdk-amd64/bin/idlj to provide /usr/bin/idlj (idlj) in auto mode\n",
            "update-alternatives: using /usr/lib/jvm/java-8-openjdk-amd64/bin/wsimport to provide /usr/bin/wsimport (wsimport) in auto mode\n",
            "update-alternatives: using /usr/lib/jvm/java-8-openjdk-amd64/bin/jsadebugd to provide /usr/bin/jsadebugd (jsadebugd) in auto mode\n",
            "update-alternatives: using /usr/lib/jvm/java-8-openjdk-amd64/bin/native2ascii to provide /usr/bin/native2ascii (native2ascii) in auto mode\n",
            "update-alternatives: using /usr/lib/jvm/java-8-openjdk-amd64/bin/javah to provide /usr/bin/javah (javah) in auto mode\n",
            "update-alternatives: using /usr/lib/jvm/java-8-openjdk-amd64/bin/hsdb to provide /usr/bin/hsdb (hsdb) in auto mode\n",
            "update-alternatives: using /usr/lib/jvm/java-8-openjdk-amd64/bin/clhsdb to provide /usr/bin/clhsdb (clhsdb) in auto mode\n",
            "update-alternatives: using /usr/lib/jvm/java-8-openjdk-amd64/bin/xjc to provide /usr/bin/xjc (xjc) in auto mode\n",
            "update-alternatives: using /usr/lib/jvm/java-8-openjdk-amd64/bin/schemagen to provide /usr/bin/schemagen (schemagen) in auto mode\n",
            "update-alternatives: using /usr/lib/jvm/java-8-openjdk-amd64/bin/extcheck to provide /usr/bin/extcheck (extcheck) in auto mode\n",
            "update-alternatives: using /usr/lib/jvm/java-8-openjdk-amd64/bin/jhat to provide /usr/bin/jhat (jhat) in auto mode\n",
            "update-alternatives: using /usr/lib/jvm/java-8-openjdk-amd64/bin/wsgen to provide /usr/bin/wsgen (wsgen) in auto mode\n",
            "\u001b[K     |████████████████████████████████| 154 kB 7.3 MB/s \n",
            "\u001b[?25h"
          ]
        }
      ]
    },
    {
      "cell_type": "code",
      "source": [
        "# download nltk stopwords\n",
        "import pandas as pd\n",
        "import os\n",
        "import re\n",
        "import nltk\n",
        "from nltk.corpus import stopwords\n",
        "from time import time\n",
        "from timeit import timeit\n",
        "from pathlib import Path\n",
        "import pickle\n",
        "import pandas as pd\n",
        "import numpy as np\n",
        "from google.cloud import storage\n",
        "import hashlib\n",
        "import builtins\n",
        "def _hash(s):\n",
        "    return hashlib.blake2b(bytes(s, encoding='utf8'), digest_size=5).hexdigest()\n",
        "\n",
        "nltk.download('stopwords')\n",
        "\n",
        "from inverted_index_gcp import *\n"
      ],
      "metadata": {
        "id": "bCPDHP7zTQJZ",
        "colab": {
          "base_uri": "https://localhost:8080/"
        },
        "outputId": "47454b97-f6c9-4a45-ce98-6af6b1461c35"
      },
      "execution_count": 4,
      "outputs": [
        {
          "output_type": "stream",
          "name": "stdout",
          "text": [
            "[nltk_data] Downloading package stopwords to /root/nltk_data...\n",
            "[nltk_data]   Package stopwords is already up-to-date!\n"
          ]
        }
      ]
    },
    {
      "cell_type": "code",
      "source": [
        "# Install a particular version of `google-cloud-storage` because (oddly enough) \n",
        "# the  version on Colab and GCP is old. A dependency error below is okay.\n",
        "!pip install -q google-cloud-storage==1.43.0"
      ],
      "metadata": {
        "id": "lAt6KT8xOgHH",
        "colab": {
          "base_uri": "https://localhost:8080/"
        },
        "outputId": "d376620b-4049-40f4-8cc1-be7e5f904164"
      },
      "execution_count": 5,
      "outputs": [
        {
          "output_type": "stream",
          "name": "stdout",
          "text": [
            "\u001b[K     |████████████████████████████████| 106 kB 6.9 MB/s \n",
            "\u001b[K     |████████████████████████████████| 109 kB 29.4 MB/s \n",
            "\u001b[K     |████████████████████████████████| 75 kB 4.9 MB/s \n",
            "\u001b[31mERROR: pip's dependency resolver does not currently take into account all the packages that are installed. This behaviour is the source of the following dependency conflicts.\n",
            "google-cloud-translate 1.5.0 requires google-api-core[grpc]<2.0.0dev,>=1.6.0, but you have google-api-core 2.3.2 which is incompatible.\n",
            "google-cloud-translate 1.5.0 requires google-cloud-core<2.0dev,>=1.0.0, but you have google-cloud-core 2.2.1 which is incompatible.\n",
            "google-cloud-language 1.2.0 requires google-api-core[grpc]<2.0.0dev,>=1.6.0, but you have google-api-core 2.3.2 which is incompatible.\n",
            "google-cloud-firestore 1.7.0 requires google-api-core[grpc]<2.0.0dev,>=1.14.0, but you have google-api-core 2.3.2 which is incompatible.\n",
            "google-cloud-firestore 1.7.0 requires google-cloud-core<2.0dev,>=1.0.3, but you have google-cloud-core 2.2.1 which is incompatible.\n",
            "google-cloud-datastore 1.8.0 requires google-api-core[grpc]<2.0.0dev,>=1.6.0, but you have google-api-core 2.3.2 which is incompatible.\n",
            "google-cloud-datastore 1.8.0 requires google-cloud-core<2.0dev,>=1.0.0, but you have google-cloud-core 2.2.1 which is incompatible.\n",
            "google-cloud-bigquery 1.21.0 requires google-cloud-core<2.0dev,>=1.0.3, but you have google-cloud-core 2.2.1 which is incompatible.\n",
            "google-cloud-bigquery 1.21.0 requires google-resumable-media!=0.4.0,<0.5.0dev,>=0.3.1, but you have google-resumable-media 2.1.0 which is incompatible.\n",
            "google-cloud-bigquery-storage 1.1.0 requires google-api-core[grpc]<2.0.0dev,>=1.14.0, but you have google-api-core 2.3.2 which is incompatible.\n",
            "google-api-python-client 1.12.8 requires google-api-core<2dev,>=1.21.0, but you have google-api-core 2.3.2 which is incompatible.\n",
            "firebase-admin 4.4.0 requires google-api-core[grpc]<2.0.0dev,>=1.14.0; platform_python_implementation != \"PyPy\", but you have google-api-core 2.3.2 which is incompatible.\u001b[0m\n",
            "\u001b[?25h"
          ]
        }
      ]
    },
    {
      "cell_type": "code",
      "source": [
        "# authenticate below for Google Storage access as needed\n",
        "from google.colab import auth\n",
        "auth.authenticate_user()"
      ],
      "metadata": {
        "id": "-oKFly5jFLFn"
      },
      "execution_count": 6,
      "outputs": []
    },
    {
      "cell_type": "code",
      "source": [
        "import os\n",
        "from google.colab import drive\n",
        "drive.mount('/content/gdrive')"
      ],
      "metadata": {
        "colab": {
          "base_uri": "https://localhost:8080/"
        },
        "id": "c6iKpqGGjZ_l",
        "outputId": "73b22714-dc76-4e62-9a28-4d0e0626ad50"
      },
      "execution_count": 7,
      "outputs": [
        {
          "output_type": "stream",
          "name": "stdout",
          "text": [
            "Mounted at /content/gdrive\n"
          ]
        }
      ]
    },
    {
      "cell_type": "code",
      "source": [
        "# install ngrok to emulate public IP / address\n",
        "!wget -N https://bin.equinox.io/c/4VmDzA7iaHb/ngrok-stable-linux-amd64.zip -O ngrok-stable-linux-amd64.zip\n",
        "!unzip -u ngrok-stable-linux-amd64.zip"
      ],
      "metadata": {
        "id": "FrBdFNYgiyab",
        "colab": {
          "base_uri": "https://localhost:8080/"
        },
        "outputId": "97d63d52-2ab5-4fa1-cb67-994fbd975962"
      },
      "execution_count": 8,
      "outputs": [
        {
          "output_type": "stream",
          "name": "stdout",
          "text": [
            "WARNING: timestamping does nothing in combination with -O. See the manual\n",
            "for details.\n",
            "\n",
            "--2022-01-06 01:01:09--  https://bin.equinox.io/c/4VmDzA7iaHb/ngrok-stable-linux-amd64.zip\n",
            "Resolving bin.equinox.io (bin.equinox.io)... 18.205.222.128, 54.237.133.81, 54.161.241.46, ...\n",
            "Connecting to bin.equinox.io (bin.equinox.io)|18.205.222.128|:443... connected.\n",
            "HTTP request sent, awaiting response... 200 OK\n",
            "Length: 13832437 (13M) [application/octet-stream]\n",
            "Saving to: ‘ngrok-stable-linux-amd64.zip’\n",
            "\n",
            "ngrok-stable-linux- 100%[===================>]  13.19M  19.4MB/s    in 0.7s    \n",
            "\n",
            "2022-01-06 01:01:10 (19.4 MB/s) - ‘ngrok-stable-linux-amd64.zip’ saved [13832437/13832437]\n",
            "\n",
            "Archive:  ngrok-stable-linux-amd64.zip\n",
            "  inflating: ngrok                   \n"
          ]
        }
      ]
    },
    {
      "cell_type": "code",
      "source": [
        "# TODO: sign up for an ngrok account\n",
        "# then put your ngrok token below, uncomment, and execute\n",
        "!./ngrok authtoken 23F2KXqbpjODtqGrf9EAcyV2vyZ_3GcPibY1MbqThZUVi6hTT"
      ],
      "metadata": {
        "id": "xA-_dKEZbsXW",
        "colab": {
          "base_uri": "https://localhost:8080/"
        },
        "outputId": "8d63d823-cad6-49a3-91ee-2f7dcf31731e"
      },
      "execution_count": 9,
      "outputs": [
        {
          "output_type": "stream",
          "name": "stdout",
          "text": [
            "Authtoken saved to configuration file: /root/.ngrok2/ngrok.yml\n"
          ]
        }
      ]
    },
    {
      "cell_type": "code",
      "execution_count": 10,
      "metadata": {
        "id": "nXn5PlyGORQr",
        "colab": {
          "base_uri": "https://localhost:8080/"
        },
        "outputId": "86dc146e-4cda-4dde-9cfb-b86fa2f282f2"
      },
      "outputs": [
        {
          "output_type": "stream",
          "name": "stdout",
          "text": [
            "\u001b[?25l\r\u001b[K     |████                            | 10 kB 32.3 MB/s eta 0:00:01\r\u001b[K     |████████                        | 20 kB 24.3 MB/s eta 0:00:01\r\u001b[K     |███████████▉                    | 30 kB 12.4 MB/s eta 0:00:01\r\u001b[K     |███████████████▉                | 40 kB 9.9 MB/s eta 0:00:01\r\u001b[K     |███████████████████▊            | 51 kB 6.9 MB/s eta 0:00:01\r\u001b[K     |███████████████████████▊        | 61 kB 7.0 MB/s eta 0:00:01\r\u001b[K     |███████████████████████████▋    | 71 kB 7.3 MB/s eta 0:00:01\r\u001b[K     |███████████████████████████████▋| 81 kB 8.2 MB/s eta 0:00:01\r\u001b[K     |████████████████████████████████| 83 kB 1.5 MB/s \n",
            "\u001b[?25h"
          ]
        }
      ],
      "source": [
        "# install a ngrok python package and a version of flask that works with it in \n",
        "# colab\n",
        "!pip -q install flask-ngrok\n",
        "!pip -q install flask==0.12.2\n",
        "# !pip -q install flask_restful"
      ]
    },
    {
      "cell_type": "markdown",
      "source": [
        "# Run the app"
      ],
      "metadata": {
        "id": "6dW0y91OVu5J"
      }
    },
    {
      "cell_type": "code",
      "source": [
        "# you need to upload your implementation of search_app.py\n",
        "import search_frontend as se"
      ],
      "metadata": {
        "id": "7opNkV6uRHIv"
      },
      "execution_count": 17,
      "outputs": []
    },
    {
      "cell_type": "code",
      "source": [
        "# uncomment the code below and execute to reload the module when you make \n",
        "# changes to search_frontend.py (after you upload again).\n",
        "# import importlib\n",
        "# importlib.reload(se)"
      ],
      "metadata": {
        "id": "oTGXXYEXV5l8",
        "colab": {
          "base_uri": "https://localhost:8080/"
        },
        "outputId": "519484e7-1df5-448e-cf10-d7f1e9fc1efc"
      },
      "execution_count": 19,
      "outputs": [
        {
          "output_type": "execute_result",
          "data": {
            "text/plain": [
              "<module 'search_frontend' from '/content/search_frontend.py'>"
            ]
          },
          "metadata": {},
          "execution_count": 19
        }
      ]
    },
    {
      "cell_type": "code",
      "source": [
        "from flask_ngrok import run_with_ngrok\n",
        "run_with_ngrok(se.app) \n",
        "se.app.run()"
      ],
      "metadata": {
        "id": "J5n9u9rFP_wD",
        "colab": {
          "base_uri": "https://localhost:8080/"
        },
        "outputId": "65df622f-2a03-4f03-98a2-c0bfea44035f"
      },
      "execution_count": 20,
      "outputs": [
        {
          "output_type": "stream",
          "name": "stderr",
          "text": [
            " * Running on http://127.0.0.1:5000/ (Press CTRL+C to quit)\n"
          ]
        },
        {
          "output_type": "stream",
          "name": "stdout",
          "text": [
            " * Running on http://8237-34-125-120-32.ngrok.io\n",
            " * Traffic stats available on http://127.0.0.1:4040\n"
          ]
        },
        {
          "output_type": "stream",
          "name": "stderr",
          "text": [
            "127.0.0.1 - - [06/Jan/2022 01:19:18] \"\u001b[37mGET /search?query=how+to+make+pasta HTTP/1.1\u001b[0m\" 200 -\n",
            "127.0.0.1 - - [06/Jan/2022 01:19:18] \"\u001b[33mGET /favicon.ico HTTP/1.1\u001b[0m\" 404 -\n",
            "127.0.0.1 - - [06/Jan/2022 01:21:08] \"\u001b[37mGET /search?query=python HTTP/1.1\u001b[0m\" 200 -\n",
            "127.0.0.1 - - [06/Jan/2022 01:21:16] \"\u001b[37mGET /search?query=data+science HTTP/1.1\u001b[0m\" 200 -\n",
            "127.0.0.1 - - [06/Jan/2022 01:21:18] \"\u001b[37mGET /search?query=migraine HTTP/1.1\u001b[0m\" 200 -\n",
            "127.0.0.1 - - [06/Jan/2022 01:21:21] \"\u001b[37mGET /search?query=chocolate HTTP/1.1\u001b[0m\" 200 -\n",
            "127.0.0.1 - - [06/Jan/2022 01:21:23] \"\u001b[37mGET /search?query=how+to+make+pasta HTTP/1.1\u001b[0m\" 200 -\n",
            "127.0.0.1 - - [06/Jan/2022 01:21:26] \"\u001b[37mGET /search?query=Does+pasta+have+preservatives%3F HTTP/1.1\u001b[0m\" 200 -\n",
            "127.0.0.1 - - [06/Jan/2022 01:21:32] \"\u001b[37mGET /search?query=how+google+works HTTP/1.1\u001b[0m\" 200 -\n",
            "127.0.0.1 - - [06/Jan/2022 01:21:38] \"\u001b[37mGET /search?query=what+is+information+retrieval HTTP/1.1\u001b[0m\" 200 -\n",
            "127.0.0.1 - - [06/Jan/2022 01:21:38] \"\u001b[37mGET /search?query=NBA HTTP/1.1\u001b[0m\" 200 -\n",
            "127.0.0.1 - - [06/Jan/2022 01:21:40] \"\u001b[37mGET /search?query=yoga HTTP/1.1\u001b[0m\" 200 -\n",
            "127.0.0.1 - - [06/Jan/2022 01:21:47] \"\u001b[37mGET /search?query=how+to+not+kill+plants HTTP/1.1\u001b[0m\" 200 -\n",
            "127.0.0.1 - - [06/Jan/2022 01:21:50] \"\u001b[37mGET /search?query=masks HTTP/1.1\u001b[0m\" 200 -\n",
            "127.0.0.1 - - [06/Jan/2022 01:21:56] \"\u001b[37mGET /search?query=black+friday HTTP/1.1\u001b[0m\" 200 -\n",
            "127.0.0.1 - - [06/Jan/2022 01:22:01] \"\u001b[37mGET /search?query=why+do+men+have+nipples HTTP/1.1\u001b[0m\" 200 -\n",
            "127.0.0.1 - - [06/Jan/2022 01:22:06] \"\u001b[37mGET /search?query=rubber+duck HTTP/1.1\u001b[0m\" 200 -\n",
            "127.0.0.1 - - [06/Jan/2022 01:22:08] \"\u001b[37mGET /search?query=michelin HTTP/1.1\u001b[0m\" 200 -\n",
            "127.0.0.1 - - [06/Jan/2022 01:22:11] \"\u001b[37mGET /search?query=what+to+watch HTTP/1.1\u001b[0m\" 200 -\n",
            "127.0.0.1 - - [06/Jan/2022 01:22:22] \"\u001b[37mGET /search?query=best+marvel+movie HTTP/1.1\u001b[0m\" 200 -\n",
            "127.0.0.1 - - [06/Jan/2022 01:22:30] \"\u001b[37mGET /search?query=how+tall+is+the+eiffel+tower HTTP/1.1\u001b[0m\" 200 -\n",
            "127.0.0.1 - - [06/Jan/2022 01:22:32] \"\u001b[37mGET /search?query=where+does+vanilla+flavoring+come+from HTTP/1.1\u001b[0m\" 200 -\n",
            "127.0.0.1 - - [06/Jan/2022 01:22:44] \"\u001b[37mGET /search?query=best+ice+cream+flavour HTTP/1.1\u001b[0m\" 200 -\n",
            "127.0.0.1 - - [06/Jan/2022 01:22:47] \"\u001b[37mGET /search?query=how+to+tie+a+tie HTTP/1.1\u001b[0m\" 200 -\n",
            "127.0.0.1 - - [06/Jan/2022 01:22:56] \"\u001b[37mGET /search?query=how+to+earn+money+online HTTP/1.1\u001b[0m\" 200 -\n",
            "127.0.0.1 - - [06/Jan/2022 01:23:06] \"\u001b[37mGET /search?query=what+is+critical+race+theory HTTP/1.1\u001b[0m\" 200 -\n",
            "127.0.0.1 - - [06/Jan/2022 01:23:19] \"\u001b[37mGET /search?query=what+space+movie+was+made+in+1992 HTTP/1.1\u001b[0m\" 200 -\n",
            "127.0.0.1 - - [06/Jan/2022 01:23:23] \"\u001b[37mGET /search?query=how+to+vote HTTP/1.1\u001b[0m\" 200 -\n",
            "127.0.0.1 - - [06/Jan/2022 01:23:24] \"\u001b[37mGET /search?query=google+trends HTTP/1.1\u001b[0m\" 200 -\n",
            "127.0.0.1 - - [06/Jan/2022 01:23:29] \"\u001b[37mGET /search?query=dim+sum HTTP/1.1\u001b[0m\" 200 -\n",
            "127.0.0.1 - - [06/Jan/2022 01:23:31] \"\u001b[37mGET /search?query=ted HTTP/1.1\u001b[0m\" 200 -\n",
            "127.0.0.1 - - [06/Jan/2022 01:23:36] \"\u001b[37mGET /search?query=fairy+tale HTTP/1.1\u001b[0m\" 200 -\n"
          ]
        }
      ]
    },
    {
      "cell_type": "markdown",
      "source": [
        "# Testing your app\n",
        "\n",
        "Once your app is running you can query it. You can simply do that by navigating to the URL that ngrok gave you above or through code in a different python session. For example, once the frontend app is running, you can navigate to:\n",
        "http://YOUR_SERVER_DOMAIN/search?query=hello+world where YOUR_SERVER_DOMAIN is something like XXXX-XX-XX-XX-XX.ngrok.io, which is printed above in Colab or that is your external IP on GCP.\n",
        "\n",
        "The code below shows how to issue a query from python. This is also how our testing code will issue queries to your search engine, so make sure to test your search engine this way after you deploy it to GCP and before submission. Command line instructions for deploying your search engine to GCP are available at `run_frontend_in_gcp.sh`. Note that we will not only issue training queries to your search engine, but also test queries, i.e. queries that you've never seen before."
      ],
      "metadata": {
        "id": "Na0MC_1nzDbi"
      }
    },
    {
      "cell_type": "code",
      "source": [
        "import json\n",
        "\n",
        "with open('queries_train.json', 'rt') as f:\n",
        "  queries = json.load(f)"
      ],
      "metadata": {
        "id": "EM5ePrRHojbG"
      },
      "execution_count": null,
      "outputs": []
    },
    {
      "cell_type": "code",
      "source": [
        "def average_precision(true_list, predicted_list, k=40):\n",
        "    true_set = frozenset(true_list)\n",
        "    predicted_list = predicted_list[:k]\n",
        "    precisions = []\n",
        "    for i,doc_id in enumerate(predicted_list):        \n",
        "        if doc_id in true_set:\n",
        "            prec = (len(precisions)+1) / (i+1)            \n",
        "            precisions.append(prec)\n",
        "    if len(precisions) == 0:\n",
        "        return 0.0\n",
        "    return round(sum(precisions)/len(precisions),3)"
      ],
      "metadata": {
        "id": "gWimZWCOy3Ei"
      },
      "execution_count": null,
      "outputs": []
    },
    {
      "cell_type": "code",
      "source": [
        "import requests\n",
        "from time import time\n",
        "# url = 'http://35.232.59.3:8080'\n",
        "# place the domain you got from ngrok or GCP IP below. \n",
        "url = 'http://XXXX-XX-XX-XX-XX.ngrok.io'\n",
        "\n",
        "qs_res = []\n",
        "for q, true_wids in queries.items():\n",
        "  duration, ap = None, None\n",
        "  t_start = time()\n",
        "  try:\n",
        "    res = requests.get(url + '/search', {'query': q}, timeout=35)\n",
        "    duration = time() - t_start\n",
        "    if res.status_code == 200:\n",
        "      pred_wids, _ = zip(*res.json())\n",
        "      ap = average_precision(true_wids, pred_wids)\n",
        "  except:\n",
        "    pass\n",
        "  \n",
        "  qs_res.append((q, duration, ap))"
      ],
      "metadata": {
        "id": "dYmNTq9u0ChK"
      },
      "execution_count": null,
      "outputs": []
    }
  ]
}